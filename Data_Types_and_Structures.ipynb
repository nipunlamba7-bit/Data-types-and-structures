{
  "nbformat": 4,
  "nbformat_minor": 0,
  "metadata": {
    "colab": {
      "provenance": []
    },
    "kernelspec": {
      "name": "python3",
      "display_name": "Python 3"
    },
    "language_info": {
      "name": "python"
    }
  },
  "cells": [
    {
      "cell_type": "markdown",
      "source": [
        "# Data Types and Structures"
      ],
      "metadata": {
        "id": "VN91NvpWAblY"
      }
    },
    {
      "cell_type": "code",
      "source": [],
      "metadata": {
        "id": "cKsY79bFAqOZ"
      },
      "execution_count": null,
      "outputs": []
    },
    {
      "cell_type": "markdown",
      "source": [
        "1. What are data structures, and why are they important?\n",
        "  >Data structure are organized formats used to store,manage and process data efficiently in computer programming. They are crucial because the right data structures helps optimize data retrival,manipulation and storage which leads to efficient system performance.\n",
        "\n",
        "2. Explain the difference between mutable and immutable data types with examples?\n",
        "  >Mutable data types can be modified after creation (ex- List,Dictionary,Sets etc) whereas Immutable data types cannot be modified after creation (ex- Strings,Tuples).\n",
        "\n",
        "3. What are the main differences between lists and tuples in Python?\n",
        "  >List\n",
        "\n",
        "*   Mutable\n",
        "*   Slower\n",
        "*   More memory\n",
        "*   [] only use\n",
        "\n",
        "  >Tuple\n",
        "*   Immutable\n",
        "*   Faster\n",
        "*   Less memory\n",
        "*   () only use\n",
        "\n",
        "4. Describe how dictionaries store data?\n",
        "  >Dictionary store data in Key value pairs.Key must be unique and are of strings or numbers(immutable).Hash tables for fast lookups by key.\n",
        "\n",
        "5. Why might you use a set instead of a list in Python?\n",
        "  >Set automatically removes dublicate values,support fast membership testing and provide mathematical set operations.They are suitable when elemnet uniqueness and fast lookup are essential whereas List allow dublicates and are ordered.\n",
        "\n",
        "6. What is a string in Python, and how is it different from a list?\n",
        "  >A String is a sequence of characters and immutable whereas a List is sequence that can hold any data types(numbers,objects or mixed) and is mutable.\n",
        "\n",
        "7.  How do tuples ensure data integrity in Python?\n",
        "  >Tuples are immutable and this prevents accidental modification, supporting data integrity in programs.\n",
        "\n",
        "8.  What is a hash table, and how does it relate to dictionaries in Python?\n",
        "  >A Hash table is a data structures that associates keys with values using a hash function for a rapid access.Pyhton dictionary is implemented as hash tables providing average time complexity for lookup,insert and delte operations.\n",
        "\n",
        "9.  Can lists contain different data types in Python?\n",
        "  >Yes, List can contain elements of different data types such as strings,integers,bool or even other list.\n",
        "\n",
        "10. Explain why strings are immutable in Python?\n",
        "  >Strings are immutable because of memory efficiency,safety in multi threading and enabling strings to be hashable.Modifications leads to new object than changing the existing one.\n",
        "\n",
        "11. What advantages do dictionaries offer over lists for certain tasks?\n",
        "  >Dict provides faster data retrival and store data as key value pairs allowing more organized and meaningful data.\n",
        "\n",
        "12. Describe a scenario where using a tuple would be preferable over a list.\n",
        "  >Tuples are preferable when storing a fixed collection of items like coordinates or days of week that should not change anywhere in the code.\n",
        "\n",
        "13.  How do sets handle duplicate values in Python?\n",
        "  >Sets automatically remove duplicates and only store unique elements.Adding duplicate items has no effect on the sets content.\n",
        "\n",
        "14. How does the “in” keyword work differently for lists and dictionaries?\n",
        "  >\"in\" with a list checks for presence of a value whereas in Dict it checksfor a key.\n",
        "\n",
        "15. Can you modify the elements of a tuple? Explain why or why not?\n",
        "  >Tuples are immutable sp elements cannot be added or removed or changed after creation.Any modification will raise a Type Error.\n",
        "\n",
        "16.  What is a nested dictionary, and give an example of its use case?\n",
        "  >A Nested dict is dict with another dict as a value.Ex- storing student records where ecah student ID maps to another dict of name,age and grade.\n",
        "\n",
        "17. Describe the time complexity of accessing elements in a dictionary\n",
        "  >Accessing an elemet by key in a dict has average time complexity O(1) due to hash table implemetation.\n",
        "\n",
        "18. In what situations are lists preferred over dictionaries?\n",
        "  >List are preferred for ordered data,sequential element access with integer indices or when duplicate items are needed.They are also more space efficient for small,simple collections.\n",
        "\n",
        "19. Why are dictionaries considered unordered, and how does that affect data retrieval?\n",
        "  >In earlier versions of Python, dict were unordered, meaning key values pairs had no guaranteed order.This affect retrival if order matters.\n",
        "\n",
        "20. Explain the difference between a list and a dictionary in terms of data retrieval.\n",
        "  >List:\n",
        "*   Order guaranteed by index\n",
        "*   Retrival slower for large lookups\n",
        "*   Data accessed by integer index\n",
        "\n",
        "  Dictionary:\n",
        "*   Order not guarnteed in all version\n",
        "*   Retrival fast for lookups\n",
        "*   Data accessed by key\n",
        "\n",
        "\n",
        "\n",
        "\n",
        "\n",
        "\n",
        "\n",
        "\n",
        "\n",
        "\n",
        "\n",
        "\n",
        "\n",
        "\n",
        "\n",
        "\n"
      ],
      "metadata": {
        "id": "yHQXJgTXBeL3"
      }
    },
    {
      "cell_type": "markdown",
      "source": [
        "# **Practical** **Questions**"
      ],
      "metadata": {
        "id": "dP44tJMoPdib"
      }
    },
    {
      "cell_type": "code",
      "source": [
        "#Write a code to create a string with your name and print it.\n",
        "name= \"Nipun\"\n",
        "print(name)"
      ],
      "metadata": {
        "colab": {
          "base_uri": "https://localhost:8080/"
        },
        "id": "fWqJkezsPlai",
        "outputId": "5b513bb0-e10d-4acd-a9bc-9ffe219b7c72"
      },
      "execution_count": 1,
      "outputs": [
        {
          "output_type": "stream",
          "name": "stdout",
          "text": [
            "Nipun\n"
          ]
        }
      ]
    },
    {
      "cell_type": "code",
      "source": [
        "# Write a code to find the length of the string \"Hello World\".\n",
        "s= \"Hello World\"\n",
        "print(len(s))"
      ],
      "metadata": {
        "colab": {
          "base_uri": "https://localhost:8080/"
        },
        "id": "B-bICCujQf_A",
        "outputId": "d6a42484-59da-4428-d6f1-144fb491ed67"
      },
      "execution_count": 3,
      "outputs": [
        {
          "output_type": "stream",
          "name": "stdout",
          "text": [
            "11\n"
          ]
        }
      ]
    },
    {
      "cell_type": "code",
      "source": [
        "# Write a code to slice the first 3 characters from the string \"Python Programming\".\n",
        "s= \"Python Programming\"\n",
        "print(s[:3])"
      ],
      "metadata": {
        "colab": {
          "base_uri": "https://localhost:8080/"
        },
        "id": "a2DBVD-5Q2DU",
        "outputId": "2fdbf886-11ce-4b04-913d-de0c40fa9d78"
      },
      "execution_count": 4,
      "outputs": [
        {
          "output_type": "stream",
          "name": "stdout",
          "text": [
            "Pyt\n"
          ]
        }
      ]
    },
    {
      "cell_type": "code",
      "source": [
        "#Write a code to convert the string \"hello\" to uppercase.\n",
        "s= \"hello\"\n",
        "print(s.upper())"
      ],
      "metadata": {
        "colab": {
          "base_uri": "https://localhost:8080/"
        },
        "id": "HQ2uP8DkRVGE",
        "outputId": "1316a732-8bfa-47ba-8785-89fc8ae3776a"
      },
      "execution_count": 5,
      "outputs": [
        {
          "output_type": "stream",
          "name": "stdout",
          "text": [
            "HELLO\n"
          ]
        }
      ]
    },
    {
      "cell_type": "code",
      "source": [
        "# Write a code to replace the word \"apple\" with \"orange\" in the string \"I like apple\".\n",
        "s= \"I like apple\"\n",
        "print(s.replace(\"apple\",\"orange\"))"
      ],
      "metadata": {
        "colab": {
          "base_uri": "https://localhost:8080/"
        },
        "id": "Dd7JydcRRlYt",
        "outputId": "c9629c10-f862-4b84-e70c-d1eae3d6c3f3"
      },
      "execution_count": 7,
      "outputs": [
        {
          "output_type": "stream",
          "name": "stdout",
          "text": [
            "I like orange\n"
          ]
        }
      ]
    },
    {
      "cell_type": "code",
      "source": [
        "# Write a code to create a list with numbers 1 to 5 and print it.\n",
        "lst= [1,2,3,4,5]\n",
        "print(lst)"
      ],
      "metadata": {
        "colab": {
          "base_uri": "https://localhost:8080/"
        },
        "id": "2iNXMqGdR7b7",
        "outputId": "586f998b-e1c9-40b3-c211-e82654a88a36"
      },
      "execution_count": 8,
      "outputs": [
        {
          "output_type": "stream",
          "name": "stdout",
          "text": [
            "[1, 2, 3, 4, 5]\n"
          ]
        }
      ]
    },
    {
      "cell_type": "code",
      "source": [
        "#Write a code to append the number 10 to the list [1, 2, 3, 4].\n",
        "lst= [1,2,3,4]\n",
        "lst.append(10)\n",
        "print(lst)"
      ],
      "metadata": {
        "colab": {
          "base_uri": "https://localhost:8080/"
        },
        "id": "kBb704VbSQ4G",
        "outputId": "10e8e70f-1fe2-4c40-b39b-66915682a5fc"
      },
      "execution_count": 10,
      "outputs": [
        {
          "output_type": "stream",
          "name": "stdout",
          "text": [
            "[1, 2, 3, 4, 10]\n"
          ]
        }
      ]
    },
    {
      "cell_type": "code",
      "source": [
        "#Write a code to remove the number 3 from the list [1, 2, 3, 4, 5].\n",
        "lst= [1,2,3,4,5]\n",
        "lst.remove(3)\n",
        "print(lst)"
      ],
      "metadata": {
        "colab": {
          "base_uri": "https://localhost:8080/"
        },
        "id": "rBZiTw92Sjfh",
        "outputId": "a0737f90-293c-4eba-eed5-ef83f2298c20"
      },
      "execution_count": 11,
      "outputs": [
        {
          "output_type": "stream",
          "name": "stdout",
          "text": [
            "[1, 2, 4, 5]\n"
          ]
        }
      ]
    },
    {
      "cell_type": "code",
      "source": [
        "# Write a code to access the second element in the list ['a', 'b', 'c', 'd'].\n",
        "lst= [\"a\",\"b,\",\"c\",\"d\"]\n",
        "print(lst[2])"
      ],
      "metadata": {
        "colab": {
          "base_uri": "https://localhost:8080/"
        },
        "id": "rEyfdnVGS9Z-",
        "outputId": "cefbf899-ca16-48f0-a936-2ec31144aa66"
      },
      "execution_count": 15,
      "outputs": [
        {
          "output_type": "stream",
          "name": "stdout",
          "text": [
            "c\n"
          ]
        }
      ]
    },
    {
      "cell_type": "code",
      "source": [
        "#Write a code to reverse the list [10, 20, 30, 40, 50].\n",
        "lst= [10,20,30,40,50]\n",
        "print(lst[::-1])"
      ],
      "metadata": {
        "colab": {
          "base_uri": "https://localhost:8080/"
        },
        "id": "SJnxKZ9yTTTd",
        "outputId": "0c88c81d-573e-4d7e-bfe6-d22fd35116a8"
      },
      "execution_count": 18,
      "outputs": [
        {
          "output_type": "stream",
          "name": "stdout",
          "text": [
            "[50, 40, 30, 20, 10]\n"
          ]
        }
      ]
    },
    {
      "cell_type": "code",
      "source": [
        "#Write a code to create a tuple with the elements 100, 200, 300 and print it.\n",
        "t= (100,200,300)\n",
        "print(t)"
      ],
      "metadata": {
        "colab": {
          "base_uri": "https://localhost:8080/"
        },
        "id": "D8NjKyu2TxAR",
        "outputId": "cf641c43-d941-4068-a776-f98e393e7274"
      },
      "execution_count": 19,
      "outputs": [
        {
          "output_type": "stream",
          "name": "stdout",
          "text": [
            "(100, 200, 300)\n"
          ]
        }
      ]
    },
    {
      "cell_type": "code",
      "source": [
        "#Write a code to access the second-to-last element of the tuple ('red', 'green', 'blue', 'yellow').\n",
        "t= (\"red\",\"green\",\"blue\",\"yellow\")\n",
        "print(t[-2])"
      ],
      "metadata": {
        "colab": {
          "base_uri": "https://localhost:8080/"
        },
        "id": "OgfMd0W5UU4C",
        "outputId": "42f29e2a-8906-4c24-9c62-e508b344fad1"
      },
      "execution_count": 21,
      "outputs": [
        {
          "output_type": "stream",
          "name": "stdout",
          "text": [
            "blue\n"
          ]
        }
      ]
    },
    {
      "cell_type": "code",
      "source": [
        "#Write a code to find the minimum number in the tuple (10, 20, 5, 15).\n",
        "t= (10,20,5,15)\n",
        "print(min(t))"
      ],
      "metadata": {
        "colab": {
          "base_uri": "https://localhost:8080/"
        },
        "id": "Y1mdVnyXUwrU",
        "outputId": "4822627b-267f-4bd7-b15b-af31bc59d850"
      },
      "execution_count": 22,
      "outputs": [
        {
          "output_type": "stream",
          "name": "stdout",
          "text": [
            "5\n"
          ]
        }
      ]
    },
    {
      "cell_type": "code",
      "source": [
        "#Write a code to find the index of the element \"cat\" in the tuple ('dog', 'cat', 'rabbit').\n",
        "t= ('dog', 'cat', 'rabbit')\n",
        "print(t.index(\"cat\"))"
      ],
      "metadata": {
        "colab": {
          "base_uri": "https://localhost:8080/"
        },
        "id": "tcQ_Rop8VGJv",
        "outputId": "326b8953-2c59-4d13-9da7-e63bac16993e"
      },
      "execution_count": 23,
      "outputs": [
        {
          "output_type": "stream",
          "name": "stdout",
          "text": [
            "1\n"
          ]
        }
      ]
    },
    {
      "cell_type": "code",
      "source": [
        "#Write a code to create a tuple containing three different fruits and check if \"kiwi\" is in it.\n",
        "t= (\"apple\",\"mango\",\"kiwi\")\n",
        "print(\"kiwi\" in (t))"
      ],
      "metadata": {
        "colab": {
          "base_uri": "https://localhost:8080/"
        },
        "id": "JB_fxgDkVbfa",
        "outputId": "0bb2141c-e962-4193-fa4a-733b5480a949"
      },
      "execution_count": 25,
      "outputs": [
        {
          "output_type": "stream",
          "name": "stdout",
          "text": [
            "True\n"
          ]
        }
      ]
    },
    {
      "cell_type": "code",
      "source": [
        "#Write a code to create a set with the elements 'a', 'b', 'c' and print it.\n",
        "s= {'a', 'b', 'c'}\n",
        "print(s)"
      ],
      "metadata": {
        "colab": {
          "base_uri": "https://localhost:8080/"
        },
        "id": "OGN04xX-VxRe",
        "outputId": "c203eca4-d65a-44b4-bdb4-ce22259140c0"
      },
      "execution_count": 27,
      "outputs": [
        {
          "output_type": "stream",
          "name": "stdout",
          "text": [
            "{'a', 'c', 'b'}\n"
          ]
        }
      ]
    },
    {
      "cell_type": "code",
      "source": [
        "#Write a code to clear all elements from the set {1, 2, 3, 4, 5}\n",
        "s= {1, 2, 3, 4, 5}\n",
        "s.clear()\n",
        "print(s)"
      ],
      "metadata": {
        "colab": {
          "base_uri": "https://localhost:8080/"
        },
        "id": "-SWPBQtLWJnz",
        "outputId": "d61a1f6e-1266-425c-c146-fc8c1bc24415"
      },
      "execution_count": 29,
      "outputs": [
        {
          "output_type": "stream",
          "name": "stdout",
          "text": [
            "set()\n"
          ]
        }
      ]
    },
    {
      "cell_type": "code",
      "source": [
        "#Write a code to remove the element 4 from the set {1, 2, 3, 4}.\n",
        "s= {1, 2, 3, 4}\n",
        "s.remove(4)\n",
        "print(s)"
      ],
      "metadata": {
        "colab": {
          "base_uri": "https://localhost:8080/"
        },
        "id": "uWjSCORXWcoj",
        "outputId": "44c1f746-1fd3-4c9a-8cec-4dd60bbcfc13"
      },
      "execution_count": 30,
      "outputs": [
        {
          "output_type": "stream",
          "name": "stdout",
          "text": [
            "{1, 2, 3}\n"
          ]
        }
      ]
    },
    {
      "cell_type": "code",
      "source": [
        "#Write a code to find the union of two sets {1, 2, 3} and {3, 4, 5}.\n",
        "u1= {1, 2, 3}\n",
        "u2= {3, 4, 5}\n",
        "print(u1.union(u2))"
      ],
      "metadata": {
        "colab": {
          "base_uri": "https://localhost:8080/"
        },
        "id": "UALFIc6lW1fM",
        "outputId": "0bf3f7a7-8df3-428c-bb1b-55b3e5173c3c"
      },
      "execution_count": 32,
      "outputs": [
        {
          "output_type": "stream",
          "name": "stdout",
          "text": [
            "{1, 2, 3, 4, 5}\n"
          ]
        }
      ]
    },
    {
      "cell_type": "code",
      "source": [
        "#Write a code to find the intersection of two sets {1, 2, 3} and {2, 3, 4}.\n",
        "a= {1, 2, 3}\n",
        "b= {2, 3, 4}\n",
        "print(a.intersection(b))"
      ],
      "metadata": {
        "colab": {
          "base_uri": "https://localhost:8080/"
        },
        "id": "BU8EL4LPXR2v",
        "outputId": "b2d2b81d-94f4-45db-a98b-d49657ea1d9f"
      },
      "execution_count": 34,
      "outputs": [
        {
          "output_type": "stream",
          "name": "stdout",
          "text": [
            "{2, 3}\n"
          ]
        }
      ]
    },
    {
      "cell_type": "code",
      "source": [
        "#Write a code to create a dictionary with the keys \"name\", \"age\", and \"city\", and print it.\n",
        "d= {\"name\": \"Nipun\", \"age\": \"26\", \"city\": \"Delhi\"}\n",
        "print(d)"
      ],
      "metadata": {
        "colab": {
          "base_uri": "https://localhost:8080/"
        },
        "id": "MO0xny-FXye7",
        "outputId": "a4f9c82e-4c59-4837-caab-63310937a0bc"
      },
      "execution_count": 35,
      "outputs": [
        {
          "output_type": "stream",
          "name": "stdout",
          "text": [
            "{'name': 'Nipun', 'age': '26', 'city': 'Delhi'}\n"
          ]
        }
      ]
    },
    {
      "cell_type": "code",
      "source": [
        "#Write a code to add a new key-value pair \"country\": \"USA\" to the dictionary {'name': 'John', 'age': 25}\n",
        "d= {'name': 'John', 'age': 25}\n",
        "d[\"country\"]= \"USA\"\n",
        "print(d)"
      ],
      "metadata": {
        "colab": {
          "base_uri": "https://localhost:8080/"
        },
        "id": "XAK7a2okYRYR",
        "outputId": "8bf71209-03ef-4bd9-caf9-02ee6267b78c"
      },
      "execution_count": 36,
      "outputs": [
        {
          "output_type": "stream",
          "name": "stdout",
          "text": [
            "{'name': 'John', 'age': 25, 'country': 'USA'}\n"
          ]
        }
      ]
    },
    {
      "cell_type": "code",
      "source": [
        "#Write a code to access the value associated with the key \"name\" in the dictionary {'name': 'Alice', 'age': 30}.\n",
        "d= {'name': 'Alice', 'age': 30}\n",
        "print(d[\"name\"])"
      ],
      "metadata": {
        "colab": {
          "base_uri": "https://localhost:8080/"
        },
        "id": "XJ1Z6s-UYuJI",
        "outputId": "2589d728-d6c3-4bc8-a160-1bcb01fb2f92"
      },
      "execution_count": 37,
      "outputs": [
        {
          "output_type": "stream",
          "name": "stdout",
          "text": [
            "Alice\n"
          ]
        }
      ]
    },
    {
      "cell_type": "code",
      "source": [
        "#Write a code to remove the key \"age\" from the dictionary {'name': 'Bob', 'age': 22, 'city': 'New York'}.\n",
        "d= {'name': 'Bob', 'age': 22, 'city': 'New York'}\n",
        "del d[\"age\"]\n",
        "print(d)"
      ],
      "metadata": {
        "colab": {
          "base_uri": "https://localhost:8080/"
        },
        "id": "ZIkO_UjTZEcI",
        "outputId": "566579f9-630f-441b-833f-85524ec0f0a7"
      },
      "execution_count": 38,
      "outputs": [
        {
          "output_type": "stream",
          "name": "stdout",
          "text": [
            "{'name': 'Bob', 'city': 'New York'}\n"
          ]
        }
      ]
    },
    {
      "cell_type": "code",
      "source": [
        "#Write a code to check if the key \"city\" exists in the dictionary {'name': 'Alice', 'city': 'Paris'}.\n",
        "d= {'name': 'Alice', 'city': 'Paris'}\n",
        "print(\"city\" in d)"
      ],
      "metadata": {
        "colab": {
          "base_uri": "https://localhost:8080/"
        },
        "id": "e0zLZZ4EZXTH",
        "outputId": "19faa9a4-a23f-4c77-9b41-6bdafac4643c"
      },
      "execution_count": 40,
      "outputs": [
        {
          "output_type": "stream",
          "name": "stdout",
          "text": [
            "True\n"
          ]
        }
      ]
    },
    {
      "cell_type": "code",
      "source": [
        "#Write a code to create a list, a tuple, and a dictionary, and print them all.\n",
        "lst= [1,2,3,4]\n",
        "tup= (1,2,3,4)\n",
        "d= {\"name\":\"Nipun\",\"age\":26,\"city\":\"Delhi\",}\n",
        "print(lst)\n",
        "print(tup)\n",
        "print(d)"
      ],
      "metadata": {
        "colab": {
          "base_uri": "https://localhost:8080/"
        },
        "id": "cKz1QbyyZnSG",
        "outputId": "b5d20f49-a394-4eec-b4e7-506ad74c58d3"
      },
      "execution_count": 45,
      "outputs": [
        {
          "output_type": "stream",
          "name": "stdout",
          "text": [
            "[1, 2, 3, 4]\n",
            "(1, 2, 3, 4)\n",
            "{'name': 'Nipun', 'age': 26, 'city': 'Delhi'}\n"
          ]
        }
      ]
    },
    {
      "cell_type": "code",
      "source": [
        "#Write a code to create a list of 5 random numbers between 1 and 100, sort it in ascending order, and print the result.(replaced)\n",
        "import random\n",
        "lst= [random.randint(1,100) for _ in range(5)]\n",
        "lst.sort()\n",
        "print(lst)"
      ],
      "metadata": {
        "colab": {
          "base_uri": "https://localhost:8080/"
        },
        "id": "xlUd7lyDaKWq",
        "outputId": "83fd0c7b-6c68-4870-da23-163e441da81c"
      },
      "execution_count": 50,
      "outputs": [
        {
          "output_type": "stream",
          "name": "stdout",
          "text": [
            "[13, 48, 87, 91, 100]\n"
          ]
        }
      ]
    },
    {
      "cell_type": "code",
      "source": [
        "#Write a code to create a list with strings and print the element at the third index.\n",
        "lst= [\"apple\",\"orange\",\"mango\",\"banana\"]\n",
        "print(lst[3])"
      ],
      "metadata": {
        "colab": {
          "base_uri": "https://localhost:8080/"
        },
        "id": "6AIPXUxNbS9r",
        "outputId": "fddbdd4e-dbb2-40e5-de67-7ce40902455f"
      },
      "execution_count": 54,
      "outputs": [
        {
          "output_type": "stream",
          "name": "stdout",
          "text": [
            "banana\n"
          ]
        }
      ]
    },
    {
      "cell_type": "code",
      "source": [
        "#Write a code to combine two dictionaries into one and print the result.\n",
        "d= {\"a\":1,\"b\":2,\"c\":3}\n",
        "e= {\"m\":4,\"n\":5,\"o\":6}\n",
        "a= {**d,**e}\n",
        "print(a)"
      ],
      "metadata": {
        "colab": {
          "base_uri": "https://localhost:8080/"
        },
        "id": "AHA3Jok2cCbW",
        "outputId": "908604af-1398-4c61-dc85-e93ed5242586"
      },
      "execution_count": 57,
      "outputs": [
        {
          "output_type": "stream",
          "name": "stdout",
          "text": [
            "{'a': 1, 'b': 2, 'c': 3, 'm': 4, 'n': 5, 'o': 6}\n"
          ]
        }
      ]
    },
    {
      "cell_type": "code",
      "source": [
        "#Write a code to convert a list of strings into a set.\n",
        "lst= [\"apple\",\"mango\",\"orange\"]\n",
        "s= set(lst)\n",
        "print(s)"
      ],
      "metadata": {
        "colab": {
          "base_uri": "https://localhost:8080/"
        },
        "id": "IXHOrb0zc2X3",
        "outputId": "a9340742-f600-4ede-cda2-9eec806d3db6"
      },
      "execution_count": 58,
      "outputs": [
        {
          "output_type": "stream",
          "name": "stdout",
          "text": [
            "{'orange', 'apple', 'mango'}\n"
          ]
        }
      ]
    },
    {
      "cell_type": "code",
      "source": [],
      "metadata": {
        "id": "2CJt5VRtdllD"
      },
      "execution_count": null,
      "outputs": []
    }
  ]
}